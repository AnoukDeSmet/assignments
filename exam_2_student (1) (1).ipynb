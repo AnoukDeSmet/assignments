{
 "cells": [
  {
   "cell_type": "markdown",
   "metadata": {},
   "source": [
    "# Exam R\n",
    "Mark Klik & Misja Mikkers\n",
    "\n",
    "# Introduction\n",
    "\n",
    "Before you turn this problem in, make sure everything runs as expected. First, **restart the kernel** (in the menubar, select Kernel$\\rightarrow$Restart) and then **run all cells** (in the menubar, select Cell$\\rightarrow$Run All).\n",
    "\n",
    "Make sure you fill in any place that says `YOUR CODE HERE` or \"YOUR ANSWER HERE\", as well as your name and collaborators below:\n",
    "\n"
   ]
  },
  {
   "cell_type": "code",
   "execution_count": 29,
   "metadata": {},
   "outputs": [],
   "source": [
    "NAME = \"Anouk De Smet\"\n",
    "COLLABORATORS = \"\""
   ]
  },
  {
   "cell_type": "markdown",
   "metadata": {},
   "source": [
    "Fill in the cell above to provide us with your name and student number, like\n",
    "\n",
    "NAME = \"Adam Smith, #student number#\"\n",
    "\n",
    "where you replace \"#student number#\" with your ... (very good!)\n",
    "\n",
    "Unfortunately, you are not allowed to work with \"COLLABORATORS\" in this exam.\n",
    "\n",
    "## exam September 21th, 2018\n",
    "\n",
    "With this R part of the exam you can earn at max. 4 points.\n",
    "\n",
    "In the first cell of the notebook, give us your name and student number in the way indicated above.\n",
    "\n",
    "Fill in the notebook (see below for code cells and text cells that you need to fill in).\n",
    "\n",
    "If you look at the menus above (File, Edit, View etc.), there is one called \"Cell\". If you click on this, you can change the \"Cell Type\". Choose \"Code\" when you are typing python or R code. Choose \"Markdown\" when you are typing, well, markdown.\n",
    "\n",
    "When you finish the notebook, make sure that you save it with the output of your code included.\n",
    "\n",
    "Then put it on github, e.g. by dragging it onto github (see instructions below).\n",
    "\n",
    "Finally, add a link to your README file with the name of this exam: \"Exam R September 7, 2018\".\n",
    "\n",
    "# Packages\n",
    "\n",
    "You will need the following packages for this exam."
   ]
  },
  {
   "cell_type": "code",
   "execution_count": 30,
   "metadata": {},
   "outputs": [],
   "source": [
    "library(tidyverse)\n",
    "library(gvlma)"
   ]
  },
  {
   "cell_type": "markdown",
   "metadata": {},
   "source": [
    "# Assignment 1\n",
    "\n",
    "## Data\n",
    "\n",
    "Please read in \"Medicaid.csv\" and check the structure.\n",
    "\n",
    "If needed change the variables Recipients and Total_costs into a numeric variable.\n",
    "\n",
    "Hint: don't forget you cannot change a factor in a numeric variable directly!\n",
    "\n"
   ]
  },
  {
   "cell_type": "code",
   "execution_count": 31,
   "metadata": {
    "scrolled": true
   },
   "outputs": [
    {
     "name": "stdout",
     "output_type": "stream",
     "text": [
      "   Year Recipients Total_costs\n",
      "1  2003    4267573 36142075737\n",
      "2  2004    4594667 38926018824\n",
      "3  2005    4733617 40803778540\n",
      "4  2006    4730167 40712547369\n",
      "5  2007    4622782 42127412366\n",
      "6  2008    4657242 44239141758\n",
      "7  2009    4911408 47021820192\n",
      "8  2010    5212444 49221108692\n",
      "9  2011    5398722 49975969554\n",
      "10 2012    5598237 49734737508\n",
      "11 2013    5805282 49461002640\n",
      "12 2014    6327708 52595908896\n",
      "13 2015    6700524 55647851820\n"
     ]
    }
   ],
   "source": [
    "Health <- read.csv2(\"Medicaid.csv\") %>%\n",
    "    mutate(Recipients = as.numeric(as.character(Recipients))) %>%\n",
    "    mutate(Total_costs = as.numeric(as.character(Total_costs)))\n",
    "\n",
    "print(Health)"
   ]
  },
  {
   "cell_type": "markdown",
   "metadata": {},
   "source": [
    "\n",
    "## New variable\n",
    "\n",
    "You will now have to make a new variable called \"Cost_per_Recipient\" by dividing the variable \"Total_Costs\" by the variable \"Recipients\". You will have to use the \"pipe-operator\". You have to show the \"head\" of the dataframe."
   ]
  },
  {
   "cell_type": "code",
   "execution_count": 45,
   "metadata": {
    "scrolled": true
   },
   "outputs": [
    {
     "ename": "ERROR",
     "evalue": "Error in mutate(Cost_per_Recipient = Total_costs/Recipients): object 'Total_costs' not found\n",
     "output_type": "error",
     "traceback": [
      "Error in mutate(Cost_per_Recipient = Total_costs/Recipients): object 'Total_costs' not found\nTraceback:\n",
      "1. mutate(Cost_per_Recipient = Total_costs/Recipients)"
     ]
    }
   ],
   "source": [
    "Health2 <- Health\n",
    "    mutate(Cost_per_Recipient = Total_costs/Recipients)\n",
    "head(Health2)\n",
    "\n",
    "#Couldn't found the mistake in this part of the exam and didn't know how to make it usefull for the next question. In the next question I've written the answer I would've used if it had worked.\n"
   ]
  },
  {
   "cell_type": "markdown",
   "metadata": {},
   "source": [
    "## Plot 1\n",
    "\n",
    "Now you have to make a line plot of the data:\n",
    "\n",
    "* with Year on the x-axis\n",
    "* Cost_per_Recipient on the y-axis\n",
    "* The line should have size 3 and the color \"red\"\n",
    "* The name on the Y axis should be \"Cost per enrollee\"\n",
    "\n",
    "\n"
   ]
  },
  {
   "cell_type": "code",
   "execution_count": 44,
   "metadata": {},
   "outputs": [
    {
     "name": "stderr",
     "output_type": "stream",
     "text": [
      "ERROR while rich displaying an object: Error: Aesthetics must be either length 1 or the same as the data (13): x, y\n",
      "\n",
      "Traceback:\n",
      "1. FUN(X[[i]], ...)\n",
      "2. tryCatch(withCallingHandlers({\n",
      " .     rpr <- mime2repr[[mime]](obj)\n",
      " .     if (is.null(rpr)) \n",
      " .         return(NULL)\n",
      " .     prepare_content(is.raw(rpr), rpr)\n",
      " . }, error = error_handler), error = outer_handler)\n",
      "3. tryCatchList(expr, classes, parentenv, handlers)\n",
      "4. tryCatchOne(expr, names, parentenv, handlers[[1L]])\n",
      "5. doTryCatch(return(expr), name, parentenv, handler)\n",
      "6. withCallingHandlers({\n",
      " .     rpr <- mime2repr[[mime]](obj)\n",
      " .     if (is.null(rpr)) \n",
      " .         return(NULL)\n",
      " .     prepare_content(is.raw(rpr), rpr)\n",
      " . }, error = error_handler)\n",
      "7. mime2repr[[mime]](obj)\n",
      "8. repr_text.default(obj)\n",
      "9. paste(capture.output(print(obj)), collapse = \"\\n\")\n",
      "10. capture.output(print(obj))\n",
      "11. evalVis(expr)\n",
      "12. withVisible(eval(expr, pf))\n",
      "13. eval(expr, pf)\n",
      "14. eval(expr, envir, enclos)\n",
      "15. print(obj)\n",
      "16. print.ggplot(obj)\n",
      "17. ggplot_build(x)\n",
      "18. by_layer(function(l, d) l$compute_aesthetics(d, plot))\n",
      "19. f(l = layers[[i]], d = data[[i]])\n",
      "20. l$compute_aesthetics(d, plot)\n",
      "21. f(..., self = self)\n",
      "22. check_aesthetics(evaled, n)\n",
      "23. stop(\"Aesthetics must be either length 1 or the same as the data (\", \n",
      "  .     n, \"): \", paste(names(!good), collapse = \", \"), call. = FALSE)\n"
     ]
    },
    {
     "data": {},
     "metadata": {},
     "output_type": "display_data"
    },
    {
     "data": {
      "image/png": "[encoded data removed]",
      "text/plain": [
       "plot without title"
      ]
     },
     "metadata": {},
     "output_type": "display_data"
    }
   ],
   "source": [
    "plot1 <-ggplot(data = Health, aes(x = Year, y = Cost_per_Recipient)) +\n",
    "  geom_point()\n",
    "\n",
    "plot1"
   ]
  },
  {
   "cell_type": "markdown",
   "metadata": {},
   "source": [
    "End of notebook"
   ]
  }
 ],
 "metadata": {
  "anaconda-cloud": {},
  "kernelspec": {
   "display_name": "R",
   "language": "R",
   "name": "ir"
  },
  "language_info": {
   "codemirror_mode": "r",
   "file_extension": ".r",
   "mimetype": "text/x-r-source",
   "name": "R",
   "pygments_lexer": "r",
   "version": "3.3.3"
  }
 },
 "nbformat": 4,
 "nbformat_minor": 1
}
