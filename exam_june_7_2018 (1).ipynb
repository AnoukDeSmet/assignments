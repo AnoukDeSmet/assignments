{
 "cells": [
  {
   "cell_type": "markdown",
   "metadata": {},
   "source": [
    "Before you turn this problem in, make sure everything runs as expected. First, **restart the kernel** (in the menubar, select Kernel$\\rightarrow$Restart) and then **run all cells** (in the menubar, select Cell$\\rightarrow$Run All).\n",
    "\n",
    "Make sure you fill in any place that says `YOUR CODE HERE` or \"YOUR ANSWER HERE\", as well as your name and collaborators below:"
   ]
  },
  {
   "cell_type": "code",
   "execution_count": 1,
   "metadata": {},
   "outputs": [],
   "source": [
    "NAME = \"Anouk De Smet, 2008271\"\n",
    "COLLABORATORS = \"\""
   ]
  },
  {
   "cell_type": "markdown",
   "metadata": {},
   "source": [
    "---"
   ]
  },
  {
   "cell_type": "markdown",
   "metadata": {},
   "source": [
    "Fill in the cell above to provide us with your name and student number, like\n",
    "\n",
    "NAME = \"Adam Smith, #student number#\"\n",
    "\n",
    "where you replace \"#student number#\" with your ... (very good!)\n",
    "\n",
    "and if you are doing this with someone else (not more than one other person):\n",
    "\n",
    "COLLABORATORS = \"Karl Marx, #student number#\""
   ]
  },
  {
   "cell_type": "markdown",
   "metadata": {
    "deletable": false,
    "editable": false,
    "nbgrader": {
     "checksum": "a7ae5c69becf064d614c6c38935eca51",
     "grade": false,
     "grade_id": "cell-895e9a7b94992ec9",
     "locked": true,
     "schema_version": 1,
     "solution": false
    }
   },
   "source": [
    "# exam June 7th, 2018\n"
   ]
  },
  {
   "cell_type": "markdown",
   "metadata": {
    "deletable": false,
    "editable": false,
    "nbgrader": {
     "checksum": "bc48d165f54aa364aa34509649fcdef5",
     "grade": false,
     "grade_id": "cell-540987818af25557",
     "locked": true,
     "schema_version": 1,
     "solution": false
    }
   },
   "source": [
    "\n",
    "In the first cell of the notebook, give us your name and student number in the way indicated above. If you do this notebook with --at max.-- one other student, give her/his name and student number as well under \"COLLABORATORS\".\n",
    "\n",
    "Fill in the notebook (see below for code cells and text cells that you need to fill in).\n",
    "\n",
    "If you look at the menus above (File, Edit, View etc.), there is one called \"Cell\". If you click on this, you can change the \"Cell Type\". Choose \"Code\" when you are typing python or R code. Choose \"Markdown\" when you are typing, well, markdown.\n",
    "\n",
    "When you finish the notebook, make sure that you **save it with the output of your code included**. \n",
    "\n",
    "Then put it on github, e.g. by dragging it onto github (see instructions below). \n",
    "\n",
    "Finally, add a link to your README file with the name of this exam: \"Exam June 7, 2018\".\n",
    "\n"
   ]
  },
  {
   "cell_type": "markdown",
   "metadata": {
    "deletable": false,
    "editable": false,
    "nbgrader": {
     "checksum": "6fad9bed312da1b0097e9c520b18e3fb",
     "grade": false,
     "grade_id": "cell-e1cf88cb799f1f43",
     "locked": true,
     "schema_version": 1,
     "solution": false
    }
   },
   "source": [
    "## price effects of mergers\n",
    "\n",
    "We consider a merger in this notebook. \n",
    "\n",
    "First we calculate the equilibrium with three firms, denoted by 1, 2 and 3. Then firms 2 and 3 merge so that we are left with 2 firms; denoted by 1 and 2.\n",
    "\n",
    "We calculate the effects of the merger on the equilibrium price.\n",
    "\n",
    "We start by importing the usual libraries."
   ]
  },
  {
   "cell_type": "code",
   "execution_count": 2,
   "metadata": {
    "deletable": false,
    "editable": false,
    "nbgrader": {
     "checksum": "7bd770ef54db47c3b6c8d0e31f6baef6",
     "grade": false,
     "grade_id": "cell-b895769bf40e183a",
     "locked": true,
     "schema_version": 1,
     "solution": false
    }
   },
   "outputs": [],
   "source": [
    "import matplotlib.pyplot as plt\n",
    "import pandas as pd\n",
    "import numpy as np\n",
    "from scipy import optimize\n",
    "%matplotlib inline"
   ]
  },
  {
   "cell_type": "markdown",
   "metadata": {},
   "source": [
    "The following code helps to calculate the equilibrium for the case with 3 firms. Note that you have seen similar code during the tutorials to calculate the equilibrium with 2 firms.\n",
    "\n",
    "We assume that before the merger each firm has constant marginal costs equal to 0.3. We assume a simple linear (inverse) demand curve of the form $p=1-Q$ where $p$ denotes price and $Q$ total output on the market. Total output equals the sum of each firm's output: $Q= q_1 + q_2+q_3$."
   ]
  },
  {
   "cell_type": "code",
   "execution_count": 3,
   "metadata": {
    "deletable": false,
    "editable": false,
    "nbgrader": {
     "checksum": "3e30f7ac9d9155ef089b8ca56a0c0436",
     "grade": false,
     "grade_id": "cell-f97a25efed556fd2",
     "locked": true,
     "schema_version": 1,
     "solution": false
    }
   },
   "outputs": [],
   "source": [
    "c0 = 0.3\n",
    "vector_c = [c0]*3\n",
    "\n",
    "def p(Q):\n",
    "    return 1 - Q\n",
    "\n",
    "def costs(q,c):\n",
    "    return c*q\n",
    "\n",
    "def profits(q,Q_other,c):\n",
    "    return p(q+Q_other)*q-costs(q,c)\n",
    "\n",
    "def reaction(Q_other,c):\n",
    "    q1 =  optimize.fminbound(lambda x: -profits(x,Q_other,c),0,1,full_output=1)\n",
    "    return q1[0]\n",
    "\n",
    "def fixed_point_three_firms(vector_q,vector_c):\n",
    "    return [vector_q[0]-reaction(vector_q[1]+vector_q[2],vector_c[0]),\n",
    "            vector_q[1]-reaction(vector_q[0]+vector_q[2],vector_c[1]),\n",
    "            vector_q[2]-reaction(vector_q[0]+vector_q[1],vector_c[2])]\n",
    "\n"
   ]
  },
  {
   "cell_type": "markdown",
   "metadata": {
    "deletable": false,
    "editable": false,
    "nbgrader": {
     "checksum": "f6ea3b2416aca7293a5450c45865f242",
     "grade": false,
     "grade_id": "cell-83284c4090d6de8c",
     "locked": true,
     "schema_version": 1,
     "solution": false
    }
   },
   "source": [
    "#### a) [0.5 points] Show that total equilibrium output equals  0.525. Derive the equilibrium price and Herfindahl index; denote these by `P0` and `H0` resp."
   ]
  },
  {
   "cell_type": "code",
   "execution_count": 4,
   "metadata": {
    "deletable": false,
    "nbgrader": {
     "checksum": "a06d73c35395adb00480733b458cb4a5",
     "grade": true,
     "grade_id": "cell-3b8ee172d9950128",
     "locked": false,
     "points": 0.5,
     "schema_version": 1,
     "solution": true
    }
   },
   "outputs": [
    {
     "name": "stdout",
     "output_type": "stream",
     "text": [
      "0.525\n",
      "0.475\n",
      "0.3333333333333333\n"
     ]
    }
   ],
   "source": [
    "initial_guess = [0,0,0]\n",
    "t = optimize.fsolve(lambda q: fixed_point_three_firms(q,[0.3,0.3,0.3]), initial_guess)\n",
    "y = sum(t)\n",
    "print(y)\n",
    "\n",
    "P0 = p(y)\n",
    "print(P0)\n",
    "H0 = (t[0]/y)**2 + (t[1]/y)**2 + (t[2]/y)**2\n",
    "print(H0)"
   ]
  },
  {
   "cell_type": "markdown",
   "metadata": {},
   "source": [
    "I determined the output for each firm and called that \"t\" and after that I made a summation of the three firms together and called it \"y\". After all I also denoted P0 and H0. "
   ]
  },
  {
   "cell_type": "markdown",
   "metadata": {
    "deletable": false,
    "editable": false,
    "nbgrader": {
     "checksum": "87b3b3e0e2d645c280e279312e489dc4",
     "grade": false,
     "grade_id": "cell-4b33762aa4a601fe",
     "locked": true,
     "schema_version": 1,
     "solution": false
    }
   },
   "source": [
    "#### b) [0.5 point] Define a function `fixed_point_two_firms` with the same structure as the function `fixed_point_three_firms` above, except that it derives the equilibrium output levels for a duopoly (two firms). Test this function by showing that each of the two firms produces 0.3333 in case both firms have zero costs."
   ]
  },
  {
   "cell_type": "code",
   "execution_count": 5,
   "metadata": {
    "deletable": false,
    "nbgrader": {
     "checksum": "024a1519155d681b57c85292df535a65",
     "grade": true,
     "grade_id": "cell-5ee215676b91f504",
     "locked": false,
     "points": 0.5,
     "schema_version": 1,
     "solution": true
    }
   },
   "outputs": [
    {
     "data": {
      "text/plain": [
       "array([0.33333333, 0.33333333])"
      ]
     },
     "execution_count": 5,
     "metadata": {},
     "output_type": "execute_result"
    }
   ],
   "source": [
    "c1 = 0\n",
    "def fixed_point_two_firms(vector_q,vector_c):\n",
    "    return [vector_q[0]-reaction(vector_q[1], vector_c[0]),\n",
    "            vector_q[1]-reaction(vector_q[0], vector_c[1])]\n",
    "\n",
    "initial_guess = [0,0]\n",
    "optimize.fsolve(lambda q: fixed_point_two_firms(q,[0,0]), initial_guess)"
   ]
  },
  {
   "cell_type": "markdown",
   "metadata": {},
   "source": [
    "I did the same thing as in question a, but then for the fixed_point_two_firms. "
   ]
  },
  {
   "cell_type": "markdown",
   "metadata": {
    "deletable": false,
    "editable": false,
    "nbgrader": {
     "checksum": "5291fc8716e367572fde17ebe5844d2f",
     "grade": false,
     "grade_id": "cell-c2fada02efd7b197",
     "locked": true,
     "schema_version": 1,
     "solution": false
    }
   },
   "source": [
    "The Dutch competition authority, ACM, is asked to evaluate the effects of a merger between firms 2 and 3. Firms 2 and 3 claim that by merging they can reduce their constant marginal costs. But it is not clear by how much they will reduce their costs.\n",
    "\n",
    "The ACM assumes that the marginal cost level of the merged firm is uniformly distributed between 0 and the current marginal cost level `c0`. The merger will not affect the marginal cost level of firm 1 who does not merge. Firm 1's cost level remains `c0`.\n",
    "\n",
    "The next cell generates a vector of cost levels for the merged firm, denoted `c_after_merger`. Evaluate \"c_after_merger\" in a separate cell if you do not understand the command that defines it.\n",
    "\n",
    "Then it calculates the equilibrium output levels for (the non-merging) firm 1 and (the merged) firm 2.\n",
    "\n",
    "Note that you need to specify `initial_guess`.\n"
   ]
  },
  {
   "cell_type": "code",
   "execution_count": 6,
   "metadata": {
    "deletable": false,
    "editable": false,
    "nbgrader": {
     "checksum": "11299317cd53e31de9900700999b0324",
     "grade": false,
     "grade_id": "cell-ce91ab3e3225c57d",
     "locked": true,
     "schema_version": 1,
     "solution": false
    }
   },
   "outputs": [],
   "source": [
    "c_after_merger = np.random.uniform(0,c0,size = 100)\n",
    "\n",
    "q1_after_merger = [optimize.fsolve(lambda q: fixed_point_two_firms(q,[c0,c]), initial_guess)[0] for c in c_after_merger]\n",
    "q2_after_merger = [optimize.fsolve(lambda q: fixed_point_two_firms(q,[c0,c]), initial_guess)[1] for c in c_after_merger]\n",
    "\n",
    "\n"
   ]
  },
  {
   "cell_type": "markdown",
   "metadata": {
    "deletable": false,
    "editable": false,
    "nbgrader": {
     "checksum": "2b518306d6ff20ee42d0bc3085333095",
     "grade": false,
     "grade_id": "cell-0acc18b4f07a09f4",
     "locked": true,
     "schema_version": 1,
     "solution": false
    }
   },
   "source": [
    "#### c) [0.5 points] Create a dataframe called `df_after_merger` with three columns: `c_merged_firm`, `output_non_merging_firm`, `output_merged_firm` containing resp. the cost level of the merged firm, the output level of firm 1 and the output level of firm 2."
   ]
  },
  {
   "cell_type": "code",
   "execution_count": 12,
   "metadata": {
    "deletable": false,
    "nbgrader": {
     "checksum": "f4fc6a3bdef91fa3f656ccd3290c9f54",
     "grade": true,
     "grade_id": "cell-f3eacda828774f2d",
     "locked": false,
     "points": 0.5,
     "schema_version": 1,
     "solution": true
    }
   },
   "outputs": [
    {
     "name": "stdout",
     "output_type": "stream",
     "text": [
      "    c_merged_firm  output_merged_firm  output_non_merging_firm\n",
      "0        0.219930            0.286714                 0.206643\n",
      "1        0.008644            0.427571                 0.136215\n",
      "2        0.154509            0.330327                 0.184836\n",
      "3        0.110945            0.359370                 0.170315\n",
      "4        0.187522            0.308319                 0.195841\n",
      "5        0.143906            0.337396                 0.181302\n",
      "6        0.101413            0.365725                 0.167138\n",
      "7        0.162630            0.324913                 0.187543\n",
      "8        0.099002            0.367332                 0.166334\n",
      "9        0.011815            0.425456                 0.137272\n",
      "10       0.042427            0.405049                 0.147476\n",
      "11       0.126207            0.349195                 0.175402\n",
      "12       0.264472            0.257019                 0.221491\n",
      "13       0.172789            0.318140                 0.190930\n",
      "14       0.019756            0.420163                 0.139919\n",
      "15       0.257230            0.261847                 0.219077\n",
      "16       0.120869            0.352754                 0.173623\n",
      "17       0.228926            0.280716                 0.209642\n",
      "18       0.002746            0.431502                 0.134249\n",
      "19       0.001838            0.432108                 0.133946\n",
      "20       0.193177            0.304549                 0.197726\n",
      "21       0.138097            0.341269                 0.179366\n",
      "22       0.218916            0.287390                 0.206305\n",
      "23       0.280044            0.246637                 0.226681\n",
      "24       0.126084            0.349277                 0.175361\n",
      "25       0.100606            0.366263                 0.166869\n",
      "26       0.293804            0.237464                 0.231268\n",
      "27       0.174396            0.317070                 0.191465\n",
      "28       0.071523            0.385651                 0.157174\n",
      "29       0.233284            0.277811                 0.211095\n",
      "..            ...                 ...                      ...\n",
      "70       0.247087            0.268609                 0.215696\n",
      "71       0.147708            0.334861                 0.182569\n",
      "72       0.066752            0.388832                 0.155584\n",
      "73       0.183769            0.310821                 0.194590\n",
      "74       0.080999            0.379334                 0.160333\n",
      "75       0.178987            0.314008                 0.192996\n",
      "76       0.090300            0.373133                 0.163433\n",
      "77       0.193888            0.304075                 0.197963\n",
      "78       0.125351            0.349766                 0.175117\n",
      "79       0.010367            0.426422                 0.136789\n",
      "80       0.244568            0.270288                 0.214856\n",
      "81       0.070679            0.386214                 0.156893\n",
      "82       0.135558            0.342961                 0.178519\n",
      "83       0.123681            0.350879                 0.174560\n",
      "84       0.139291            0.340473                 0.179764\n",
      "85       0.182729            0.311514                 0.194243\n",
      "86       0.220504            0.286331                 0.206835\n",
      "87       0.253412            0.264392                 0.217804\n",
      "88       0.242552            0.271632                 0.214184\n",
      "89       0.058779            0.394148                 0.152926\n",
      "90       0.212597            0.291602                 0.204199\n",
      "91       0.184645            0.310237                 0.194882\n",
      "92       0.046527            0.402315                 0.148842\n",
      "93       0.247676            0.268216                 0.215892\n",
      "94       0.170619            0.319587                 0.190206\n",
      "95       0.087692            0.374872                 0.162564\n",
      "96       0.182494            0.311671                 0.194165\n",
      "97       0.125940            0.349373                 0.175313\n",
      "98       0.082193            0.378538                 0.160731\n",
      "99       0.156808            0.328795                 0.185603\n",
      "\n",
      "[100 rows x 3 columns]\n"
     ]
    }
   ],
   "source": [
    "initial_guess = [0,0]\n",
    "\n",
    "dictionary = {'c_merged_firm': c_after_merger, 'output_non_merging_firm': q1_after_merger, 'output_merged_firm': q2_after_merger}\n",
    "\n",
    "df_after_merger = pd.DataFrame(data=dictionary)\n",
    "print(df_after_merger)"
   ]
  },
  {
   "cell_type": "markdown",
   "metadata": {
    "deletable": false,
    "editable": false,
    "nbgrader": {
     "checksum": "a5bf4171960844da9c57375d83b6eedf",
     "grade": false,
     "grade_id": "cell-7ad058be42e19df8",
     "locked": true,
     "schema_version": 1,
     "solution": false
    }
   },
   "source": [
    "#### d) [0.5 points] Add three columns to the dataframe with resp. total equilibrium output on the market, `Q`, equilibrium price, `P` and the Herfindahl index, `H`."
   ]
  },
  {
   "cell_type": "code",
   "execution_count": 14,
   "metadata": {
    "deletable": false,
    "nbgrader": {
     "checksum": "ab6179623b39a6ae634abea45326e4ab",
     "grade": true,
     "grade_id": "cell-9c39b11747803ca1",
     "locked": false,
     "points": 0.5,
     "schema_version": 1,
     "solution": true
    }
   },
   "outputs": [
    {
     "data": {
      "text/plain": [
       "<bound method NDFrame.head of     c_merged_firm  output_merged_firm  output_non_merging_firm         Q  \\\n",
       "0        0.219930            0.286714                 0.206643  0.493357   \n",
       "1        0.008644            0.427571                 0.136215  0.563785   \n",
       "2        0.154509            0.330327                 0.184836  0.515164   \n",
       "3        0.110945            0.359370                 0.170315  0.529685   \n",
       "4        0.187522            0.308319                 0.195841  0.504159   \n",
       "5        0.143906            0.337396                 0.181302  0.518698   \n",
       "6        0.101413            0.365725                 0.167138  0.532862   \n",
       "7        0.162630            0.324913                 0.187543  0.512457   \n",
       "8        0.099002            0.367332                 0.166334  0.533666   \n",
       "9        0.011815            0.425456                 0.137272  0.562728   \n",
       "10       0.042427            0.405049                 0.147476  0.552524   \n",
       "11       0.126207            0.349195                 0.175402  0.524598   \n",
       "12       0.264472            0.257019                 0.221491  0.478509   \n",
       "13       0.172789            0.318140                 0.190930  0.509070   \n",
       "14       0.019756            0.420163                 0.139919  0.560081   \n",
       "15       0.257230            0.261847                 0.219077  0.480923   \n",
       "16       0.120869            0.352754                 0.173623  0.526377   \n",
       "17       0.228926            0.280716                 0.209642  0.490358   \n",
       "18       0.002746            0.431502                 0.134249  0.565751   \n",
       "19       0.001838            0.432108                 0.133946  0.566054   \n",
       "20       0.193177            0.304549                 0.197726  0.502274   \n",
       "21       0.138097            0.341269                 0.179366  0.520634   \n",
       "22       0.218916            0.287390                 0.206305  0.493695   \n",
       "23       0.280044            0.246637                 0.226681  0.473319   \n",
       "24       0.126084            0.349277                 0.175361  0.524639   \n",
       "25       0.100606            0.366263                 0.166869  0.533131   \n",
       "26       0.293804            0.237464                 0.231268  0.468732   \n",
       "27       0.174396            0.317070                 0.191465  0.508535   \n",
       "28       0.071523            0.385651                 0.157174  0.542826   \n",
       "29       0.233284            0.277811                 0.211095  0.488905   \n",
       "..            ...                 ...                      ...       ...   \n",
       "70       0.247087            0.268609                 0.215696  0.484304   \n",
       "71       0.147708            0.334861                 0.182569  0.517431   \n",
       "72       0.066752            0.388832                 0.155584  0.544416   \n",
       "73       0.183769            0.310821                 0.194590  0.505410   \n",
       "74       0.080999            0.379334                 0.160333  0.539667   \n",
       "75       0.178987            0.314008                 0.192996  0.507004   \n",
       "76       0.090300            0.373133                 0.163433  0.536567   \n",
       "77       0.193888            0.304075                 0.197963  0.502037   \n",
       "78       0.125351            0.349766                 0.175117  0.524883   \n",
       "79       0.010367            0.426422                 0.136789  0.563211   \n",
       "80       0.244568            0.270288                 0.214856  0.485144   \n",
       "81       0.070679            0.386214                 0.156893  0.543107   \n",
       "82       0.135558            0.342961                 0.178519  0.521481   \n",
       "83       0.123681            0.350879                 0.174560  0.525440   \n",
       "84       0.139291            0.340473                 0.179764  0.520236   \n",
       "85       0.182729            0.311514                 0.194243  0.505757   \n",
       "86       0.220504            0.286331                 0.206835  0.493165   \n",
       "87       0.253412            0.264392                 0.217804  0.482196   \n",
       "88       0.242552            0.271632                 0.214184  0.485816   \n",
       "89       0.058779            0.394148                 0.152926  0.547074   \n",
       "90       0.212597            0.291602                 0.204199  0.495801   \n",
       "91       0.184645            0.310237                 0.194882  0.505118   \n",
       "92       0.046527            0.402315                 0.148842  0.551158   \n",
       "93       0.247676            0.268216                 0.215892  0.484108   \n",
       "94       0.170619            0.319587                 0.190206  0.509794   \n",
       "95       0.087692            0.374872                 0.162564  0.537436   \n",
       "96       0.182494            0.311671                 0.194165  0.505835   \n",
       "97       0.125940            0.349373                 0.175313  0.524687   \n",
       "98       0.082193            0.378538                 0.160731  0.539269   \n",
       "99       0.156808            0.328795                 0.185603  0.514397   \n",
       "\n",
       "           P         H  \n",
       "0   0.506643  0.513170  \n",
       "1   0.436215  0.633533  \n",
       "2   0.484836  0.539880  \n",
       "3   0.470315  0.563696  \n",
       "4   0.495841  0.524887  \n",
       "5   0.481302  0.545280  \n",
       "6   0.467138  0.569445  \n",
       "7   0.487543  0.535929  \n",
       "8   0.466334  0.570928  \n",
       "9   0.437272  0.631134  \n",
       "10  0.447476  0.608659  \n",
       "11  0.475402  0.554876  \n",
       "12  0.521491  0.502756  \n",
       "13  0.490930  0.531222  \n",
       "14  0.439919  0.625182  \n",
       "15  0.519077  0.503955  \n",
       "16  0.473623  0.557905  \n",
       "17  0.509642  0.510504  \n",
       "18  0.434249  0.638030  \n",
       "19  0.433946  0.638726  \n",
       "20  0.497726  0.522616  \n",
       "21  0.479366  0.548352  \n",
       "22  0.506305  0.513487  \n",
       "23  0.526681  0.500889  \n",
       "24  0.475361  0.554945  \n",
       "25  0.466869  0.569940  \n",
       "26  0.531268  0.500087  \n",
       "27  0.491465  0.530503  \n",
       "28  0.457174  0.588579  \n",
       "29  0.511095  0.509311  \n",
       "..       ...       ...  \n",
       "70  0.515696  0.505968  \n",
       "71  0.482569  0.543313  \n",
       "72  0.455584  0.591779  \n",
       "73  0.494590  0.526444  \n",
       "74  0.460333  0.582340  \n",
       "75  0.492996  0.528484  \n",
       "76  0.463433  0.576370  \n",
       "77  0.497963  0.522337  \n",
       "78  0.475117  0.555358  \n",
       "79  0.436789  0.632228  \n",
       "80  0.514856  0.506528  \n",
       "81  0.456893  0.589143  \n",
       "82  0.478519  0.549718  \n",
       "83  0.474560  0.556302  \n",
       "84  0.479764  0.547714  \n",
       "85  0.494243  0.526882  \n",
       "86  0.506835  0.512992  \n",
       "87  0.517804  0.504667  \n",
       "88  0.514184  0.506992  \n",
       "89  0.452926  0.597210  \n",
       "90  0.504199  0.515538  \n",
       "91  0.494882  0.526077  \n",
       "92  0.448842  0.605750  \n",
       "93  0.515892  0.505841  \n",
       "94  0.490206  0.532205  \n",
       "95  0.462564  0.578028  \n",
       "96  0.494165  0.526982  \n",
       "97  0.475313  0.555026  \n",
       "98  0.460731  0.581565  \n",
       "99  0.485603  0.538745  \n",
       "\n",
       "[100 rows x 6 columns]>"
      ]
     },
     "execution_count": 14,
     "metadata": {},
     "output_type": "execute_result"
    }
   ],
   "source": [
    "df_after_merger['Q']= df_after_merger['output_non_merging_firm']+df_after_merger['output_merged_firm']\n",
    "df_after_merger['P']= 1-df_after_merger['Q']\n",
    "df_after_merger['H']= (df_after_merger['output_merged_firm']/df_after_merger['Q'])**2 + (df_after_merger['output_non_merging_firm']/df_after_merger['Q'])**2\n",
    "\n",
    "df_after_merger.head"
   ]
  },
  {
   "cell_type": "markdown",
   "metadata": {},
   "source": [
    "#### e) [0.5 points] Make a histogram of the equilibrium price `P` after the merger. Also indicate in the histogram the equilibrium price before the merger `P0`. Label the horizontal axis with $P$.\n",
    "\n",
    "[hint: you may want to use matplotlib's `hist`, `vlines` and `legend` to make this graph (e.g use google to find these functions); but feel free to use something else]"
   ]
  },
  {
   "cell_type": "code",
   "execution_count": 16,
   "metadata": {
    "deletable": false,
    "nbgrader": {
     "checksum": "b103cd98545261b20f937f4b9db67f68",
     "grade": true,
     "grade_id": "cell-f9193bf8e71f1a9a",
     "locked": false,
     "points": 0.5,
     "schema_version": 1,
     "solution": true
    }
   },
   "outputs": [
    {
     "data": {
      "image/png": "[encoded data removed]",
      "text/plain": [
       "<Figure size 432x288 with 1 Axes>"
      ]
     },
     "metadata": {},
     "output_type": "display_data"
    }
   ],
   "source": [
    "Equilibrium_price = df_after_merger['P']\n",
    "plt.hist(Equilibrium_price, facecolor='lightblue', alpha=2, edgecolor='black')\n",
    "plt.xlabel('P')\n",
    "plt.axvline(0.475, color='k', linewidth=1.5)\n",
    "\n",
    "plt.show()"
   ]
  },
  {
   "cell_type": "markdown",
   "metadata": {},
   "source": [
    "#### f) [0.5 points] Explain why sometimes the equilibrium price after the merger exceeds the equilibrium price before the merger and sometimes it is lower than the pre-merger price. [hint: there is a trade off between two effects, depending on which effect dominates, equilibrium price increases or decreases after the merger]"
   ]
  },
  {
   "cell_type": "markdown",
   "metadata": {
    "deletable": false,
    "nbgrader": {
     "checksum": "dd9fc721b7cf7f66587e93cbfb758034",
     "grade": true,
     "grade_id": "cell-7a1f367cd2854156",
     "locked": false,
     "points": 0.5,
     "schema_version": 1,
     "solution": true
    }
   },
   "source": [
    "-"
   ]
  },
  {
   "cell_type": "markdown",
   "metadata": {
    "deletable": false,
    "editable": false,
    "nbgrader": {
     "checksum": "e1e41dbf14c605bf91cdc78f70eada99",
     "grade": false,
     "grade_id": "cell-06ed6044f8938a45",
     "locked": true,
     "schema_version": 1,
     "solution": false
    }
   },
   "source": [
    "#### g) [0.5 points] Make a graph with the Herfindahl index on the horizontal axis and the equilibrium price on the vertical axis. This is straightforward for $(H,P)$ after the merger as both values are in the dataframe. Add in another color, the pre-merger combination `(H0,P0)` that we calculated above."
   ]
  },
  {
   "cell_type": "code",
   "execution_count": 17,
   "metadata": {
    "deletable": false,
    "nbgrader": {
     "checksum": "51cfaacbaf533e85d9794bc74712afd5",
     "grade": true,
     "grade_id": "cell-d647464d04870b73",
     "locked": false,
     "points": 0.5,
     "schema_version": 1,
     "solution": true
    }
   },
   "outputs": [
    {
     "data": {
      "image/png": "[encoded data removed]",
      "text/plain": [
       "<Figure size 432x288 with 1 Axes>"
      ]
     },
     "metadata": {},
     "output_type": "display_data"
    }
   ],
   "source": [
    "plt.scatter(df_after_merger['H'],df_after_merger['P'], color='lightblue')\n",
    "plt.axvline(0.475, color='k', linewidth=1.5)\n",
    "plt.axhline(0.333, color='k', linewidth=1.5)\n",
    "plt.xlabel('H')\n",
    "plt.ylabel('P')\n",
    "plt.show()"
   ]
  },
  {
   "cell_type": "markdown",
   "metadata": {
    "deletable": false,
    "editable": false,
    "nbgrader": {
     "checksum": "11b6609131b1c25886f2c6cafe0f7a59",
     "grade": false,
     "grade_id": "cell-5c5e5776a7c135a2",
     "locked": true,
     "schema_version": 1,
     "solution": false
    }
   },
   "source": [
    "#### h) [0.5 points] Use the graph under g) to discuss the relation between the Herfindahl index and the equilibrium price. To illustrate, some people think that lower values of the Herfindahl index are associated with more competitive outcome. Would you agree with this?"
   ]
  },
  {
   "cell_type": "markdown",
   "metadata": {
    "collapsed": true,
    "deletable": false,
    "nbgrader": {
     "checksum": "3d396887dde3b00420c623b9f4ea8ed2",
     "grade": true,
     "grade_id": "cell-cbd89d483b23a953",
     "locked": false,
     "points": 0.5,
     "schema_version": 1,
     "solution": true
    }
   },
   "source": [
    "A lower H means a more competetive market and a "
   ]
  },
  {
   "cell_type": "markdown",
   "metadata": {},
   "source": [
    "## Github\n",
    "\n",
    "After you have finished, we need to upload this notebook on github. Make sure that you upload the file on the github page of each collaborator."
   ]
  },
  {
   "cell_type": "markdown",
   "metadata": {},
   "source": [
    "Instructions on how to upload this on github can be found [on this page](http://janboone.github.io/programming-for-economists/github.html). This page has two screencasts: one shows how to drag the notebook onto your github page, the other shows how you can use the command line to upload your notebook.\n"
   ]
  },
  {
   "cell_type": "markdown",
   "metadata": {},
   "source": [
    "Remember to update the README file in your repository to include a link to this notebook on github.\n",
    "\n",
    "\n",
    "The links that you should post start with “github.com/” and are NOT of the form “http://localhost”. Make sure you test your links after uploading."
   ]
  },
  {
   "cell_type": "code",
   "execution_count": null,
   "metadata": {},
   "outputs": [],
   "source": []
  }
 ],
 "metadata": {
  "anaconda-cloud": {},
  "kernelspec": {
   "display_name": "Python 3",
   "language": "python",
   "name": "python3"
  },
  "language_info": {
   "codemirror_mode": {
    "name": "ipython",
    "version": 3
   },
   "file_extension": ".py",
   "mimetype": "text/x-python",
   "name": "python",
   "nbconvert_exporter": "python",
   "pygments_lexer": "ipython3",
   "version": "3.6.4"
  }
 },
 "nbformat": 4,
 "nbformat_minor": 1
}
